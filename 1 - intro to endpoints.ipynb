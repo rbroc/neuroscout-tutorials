{
 "cells": [
  {
   "cell_type": "markdown",
   "metadata": {},
   "source": [
    "### Introduction to pyNS\n",
    "Hi there! Here we introduce the Neuroscout API, and the basic ways in which you can interact with it using pyNS. \\\n",
    "The API has a number of endpoints (https://neuroscout.org/api/swagger/):\n",
    "- <b>Dataset-related</b> endpoints:\n",
    "    - `Dataset`, through which you can retrieve information about Neurosocut datasets;\n",
    "    - `Task`, through which you can retrieve information about tasks - note that, in Neuroscout, a task defines a \"stimulus\". A dataset can have multiple task, if multiple different stimuli are used within that study;\n",
    "    - `Runs`, through which you can retrieve information about runs. Within a dataset, data could be collected from a subject over multiple runs, where either the same or a different stimulus is used;\n",
    "- <b>Predictor-related</b> endpoints:\n",
    "    - `Predictor`: through which you can query and push information predictors (e.g., pre-extracted stimulu features) available for given runs;\n",
    "    - `Predictor events`: through which, given a predictor id, you can retrieve the value of a given feature at each time point in a run. Events are marked with an `onset` and a `duration`, and the onset is defined relative to the start of the fMRI acquisition (e.g., onset=0.0 means that a given event happens at the same time as the trigger);\n",
    "- <b>Analysis-related</b> endpoints:\n",
    "    - `Analysis`, through which you can retrieve, modify, compile, push analyses and get reports;\n",
    "- <b>User-related</b> endpoints:\n",
    "    - `User`, through which you can interact with you user profile.\n",
    "\n",
    "Let's explore how each of these works, and how the output looks like - before jumping into specific use cases in the next notebooks. Let's start!"
   ]
  },
  {
   "cell_type": "markdown",
   "metadata": {},
   "source": [
    "### Authentication\n",
    "To interact with the Neuroscout API, you first need to authenticate. If you don't have an account, go to https://neuroscout.org, click on the `Sign up` button in the top left corner.\n",
    "Once you've created one, you can sign up with the command below. Replace `email` and `password` with your own."
   ]
  },
  {
   "cell_type": "code",
   "execution_count": null,
   "metadata": {},
   "outputs": [],
   "source": []
  },
  {
   "cell_type": "markdown",
   "metadata": {},
   "source": [
    "### Users"
   ]
  },
  {
   "cell_type": "code",
   "execution_count": null,
   "metadata": {},
   "outputs": [],
   "source": []
  },
  {
   "cell_type": "markdown",
   "metadata": {},
   "source": [
    "### Datasets, tasks, and runs"
   ]
  },
  {
   "cell_type": "code",
   "execution_count": null,
   "metadata": {},
   "outputs": [],
   "source": []
  },
  {
   "cell_type": "markdown",
   "metadata": {},
   "source": [
    "### Retrieving predictor info and time series"
   ]
  },
  {
   "cell_type": "code",
   "execution_count": null,
   "metadata": {},
   "outputs": [],
   "source": []
  },
  {
   "cell_type": "markdown",
   "metadata": {},
   "source": [
    "### Neuroscout analyses!"
   ]
  },
  {
   "cell_type": "code",
   "execution_count": null,
   "metadata": {},
   "outputs": [],
   "source": []
  }
 ],
 "metadata": {
  "kernelspec": {
   "display_name": "Python 3",
   "language": "python",
   "name": "python3"
  },
  "language_info": {
   "codemirror_mode": {
    "name": "ipython",
    "version": 3
   },
   "file_extension": ".py",
   "mimetype": "text/x-python",
   "name": "python",
   "nbconvert_exporter": "python",
   "pygments_lexer": "ipython3",
   "version": "3.7.4"
  }
 },
 "nbformat": 4,
 "nbformat_minor": 4
}
